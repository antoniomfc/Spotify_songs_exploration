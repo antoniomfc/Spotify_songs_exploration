{
 "cells": [
  {
   "cell_type": "code",
   "execution_count": 1,
   "metadata": {},
   "outputs": [],
   "source": [
    "import polars as pl\n",
    "import time\n",
    "from dotenv import load_dotenv\n",
    "import os"
   ]
  },
  {
   "cell_type": "code",
   "execution_count": 2,
   "metadata": {},
   "outputs": [],
   "source": [
    "# Cargamos las variables de entorno\n",
    "load_dotenv()\n",
    "\n",
    "storage_options = {\n",
    "    \"account_name\": os.getenv(\"ACCOUNT_NAME\"),\n",
    "    \"account_key\": os.getenv(\"ACCOUNT_KEY\")\n",
    "}"
   ]
  },
  {
   "cell_type": "markdown",
   "metadata": {},
   "source": [
    "### Carga de las canciones\n",
    "\n",
    "Obtenemos tres dataframes:\n",
    "\n",
    "1. Todas las canciones en el top 50 diario para todos los paises\n",
    "2. El total de apariciones de cada canción en el top 50 diario para España.\n",
    "3. Todos los top 1 de caciones en el periodo de tiempo para España."
   ]
  },
  {
   "cell_type": "code",
   "execution_count": 3,
   "metadata": {},
   "outputs": [],
   "source": [
    "\n",
    "# https://www.kaggle.com/datasets/asaniczka/top-spotify-songs-in-73-countries-daily-updated\n",
    "path = \"abfs://spotify-songs/\"\n",
    "\n",
    "start = time.perf_counter()\n",
    "\n",
    "\n",
    "songs_df = (\n",
    "    pl.scan_csv(path, storage_options=storage_options)\n",
    "        .collect()\n",
    "        .select(\n",
    "            \"album_name\",\n",
    "            \"name\",\n",
    "            \"artists\",\n",
    "            \"album_release_date\",\n",
    "            \"daily_rank\",\n",
    "            \"daily_movement\",\n",
    "            \"weekly_movement\",\n",
    "            pl.when(pl.col(\"country\") == \"\").then(pl.lit(\"WO\")).otherwise(pl.col(\"country\")).alias(\"country\"),\n",
    "            \"snapshot_date\",\n",
    "            \"popularity\",\n",
    "            (pl.col(\"duration_ms\") / 1000).alias(\"duration_seconds\")\n",
    "        )\n",
    "        .cast({\"duration_seconds\": pl.Int64})\n",
    ")\n",
    "\n",
    "total_aparences_top_50_es_df = (\n",
    "    songs_df\n",
    "        .filter(pl.col(\"country\") == \"ES\")\n",
    "        .group_by(\"album_name\", \"name\", \"artists\")\n",
    "        .agg(pl.count(\"name\").alias(\"total_appearances\"))\n",
    "        .sort(\"total_appearances\", descending=True)\n",
    ")\n",
    "\n",
    "top_first_per_day_es_df = (\n",
    "    songs_df\n",
    "        .filter((pl.col(\"country\") == \"ES\") & (pl.col(\"daily_rank\") == 1))\n",
    "        .select(\n",
    "            \"album_name\",\n",
    "            \"name\",\n",
    "            \"artists\",\n",
    "            \"snapshot_date\"\n",
    "        )\n",
    "        .sort(\"snapshot_date\")\n",
    ")"
   ]
  },
  {
   "cell_type": "markdown",
   "metadata": {},
   "source": [
    "### Guardamos en el lago de datos"
   ]
  },
  {
   "cell_type": "code",
   "execution_count": 4,
   "metadata": {},
   "outputs": [],
   "source": [
    "path_songs = \"abfs://spotify-delta-lake/polars/top_fifty_songs_daily\"\n",
    "songs_df.rechunk().write_delta(path_songs, mode=\"overwrite\",  storage_options=storage_options)\n",
    "\n",
    "path_total_aparences = \"abfs://spotify-delta-lake/polars/total_aparences_es\"\n",
    "total_aparences_top_50_es_df.rechunk().write_delta(path_total_aparences, mode=\"overwrite\",  storage_options=storage_options)\n",
    "\n",
    "\n",
    "path_top_first_per_day = \"abfs://spotify-delta-lake/polars/top_first_per_day_es\"\n",
    "top_first_per_day_es_df.rechunk().write_delta(path_top_first_per_day, mode=\"overwrite\", storage_options=storage_options)\n"
   ]
  },
  {
   "cell_type": "code",
   "execution_count": 5,
   "metadata": {},
   "outputs": [
    {
     "name": "stdout",
     "output_type": "stream",
     "text": [
      "Tiempo de ejecución: 27.293924 segundos\n"
     ]
    }
   ],
   "source": [
    "end = time.perf_counter()\n",
    "\n",
    "print(f\"Tiempo de ejecución: {end - start:.6f} segundos\")"
   ]
  }
 ],
 "metadata": {
  "kernelspec": {
   "display_name": ".venv",
   "language": "python",
   "name": "python3"
  },
  "language_info": {
   "codemirror_mode": {
    "name": "ipython",
    "version": 3
   },
   "file_extension": ".py",
   "mimetype": "text/x-python",
   "name": "python",
   "nbconvert_exporter": "python",
   "pygments_lexer": "ipython3",
   "version": "3.10.12"
  }
 },
 "nbformat": 4,
 "nbformat_minor": 2
}
