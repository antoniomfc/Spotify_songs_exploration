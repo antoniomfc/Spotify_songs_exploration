{
 "cells": [
  {
   "cell_type": "code",
   "execution_count": 6,
   "metadata": {},
   "outputs": [],
   "source": [
    "import daft\n",
    "import time\n",
    "import os\n",
    "from dotenv import load_dotenv\n",
    "from daft.io import IOConfig, AzureConfig\n"
   ]
  },
  {
   "cell_type": "code",
   "execution_count": 7,
   "metadata": {},
   "outputs": [],
   "source": [
    "# Cargamos las variables de entorno\n",
    "load_dotenv()\n",
    "\n",
    "account_name = os.getenv(\"ACCOUNT_NAME\"),\n",
    "account_key = os.getenv(\"ACCOUNT_KEY\")\n"
   ]
  },
  {
   "cell_type": "markdown",
   "metadata": {},
   "source": [
    "### Carga de las canciones\n",
    "\n",
    "Obtenemos tres dataframes:\n",
    "\n",
    "1. Todas las canciones en el top 50 diario para todos los paises\n",
    "2. El total de apariciones de cada canción en el top 50 diario para España.\n",
    "3. Todos los top 1 de caciones en el periodo de tiempo para España."
   ]
  },
  {
   "cell_type": "code",
   "execution_count": null,
   "metadata": {},
   "outputs": [
    {
     "ename": "TypeError",
     "evalue": "argument 'storage_account': 'tuple' object cannot be converted to 'PyString'",
     "output_type": "error",
     "traceback": [
      "\u001b[0;31m---------------------------------------------------------------------------\u001b[0m",
      "\u001b[0;31mTypeError\u001b[0m                                 Traceback (most recent call last)",
      "Cell \u001b[0;32mIn[16], line 5\u001b[0m\n\u001b[1;32m      2\u001b[0m path \u001b[38;5;241m=\u001b[39m \u001b[38;5;124m\"\u001b[39m\u001b[38;5;124mabfss://spotify-songs/\u001b[39m\u001b[38;5;124m\"\u001b[39m\n\u001b[1;32m      4\u001b[0m start \u001b[38;5;241m=\u001b[39m time\u001b[38;5;241m.\u001b[39mperf_counter()\n\u001b[0;32m----> 5\u001b[0m io_config \u001b[38;5;241m=\u001b[39m IOConfig(azure\u001b[38;5;241m=\u001b[39m\u001b[43mAzureConfig\u001b[49m\u001b[43m(\u001b[49m\u001b[43mstorage_account\u001b[49m\u001b[38;5;241;43m=\u001b[39;49m\u001b[43maccount_name\u001b[49m\u001b[43m,\u001b[49m\u001b[43m \u001b[49m\u001b[43maccess_key\u001b[49m\u001b[38;5;241;43m=\u001b[39;49m\u001b[43maccount_key\u001b[49m\u001b[43m)\u001b[49m)\n\u001b[1;32m      6\u001b[0m daft\u001b[38;5;241m.\u001b[39mset_planning_config(default_io_config\u001b[38;5;241m=\u001b[39mio_config)\n\u001b[1;32m      8\u001b[0m \u001b[38;5;66;03m# Leer archivos CSV\u001b[39;00m\n",
      "\u001b[0;31mTypeError\u001b[0m: argument 'storage_account': 'tuple' object cannot be converted to 'PyString'"
     ]
    }
   ],
   "source": [
    "\n",
    "# https://www.kaggle.com/datasets/asaniczka/top-spotify-songs-in-73-countries-daily-updated\n",
    "path = \"abfss://spotify-songs/\"\n",
    "\n",
    "start = time.perf_counter()\n",
    "\n",
    "io_config = IOConfig(azure=AzureConfig(storage_account=account_name, access_key=account_key))\n",
    "daft.set_planning_config(default_io_config=io_config)\n",
    "\n",
    "# Leer archivos CSV\n",
    "df = daft.read_csv(path + \"*.csv\")\n"
   ]
  }
 ],
 "metadata": {
  "kernelspec": {
   "display_name": ".venv",
   "language": "python",
   "name": "python3"
  },
  "language_info": {
   "codemirror_mode": {
    "name": "ipython",
    "version": 3
   },
   "file_extension": ".py",
   "mimetype": "text/x-python",
   "name": "python",
   "nbconvert_exporter": "python",
   "pygments_lexer": "ipython3",
   "version": "3.10.12"
  }
 },
 "nbformat": 4,
 "nbformat_minor": 2
}
