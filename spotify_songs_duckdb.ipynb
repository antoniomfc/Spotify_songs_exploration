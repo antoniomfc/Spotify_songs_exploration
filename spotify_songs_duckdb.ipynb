{
 "cells": [
  {
   "cell_type": "code",
   "execution_count": 1,
   "metadata": {},
   "outputs": [
    {
     "data": {
      "text/plain": [
       "True"
      ]
     },
     "execution_count": 1,
     "metadata": {},
     "output_type": "execute_result"
    }
   ],
   "source": [
    "import duckdb\n",
    "from dotenv import load_dotenv\n",
    "import os\n",
    "import time\n",
    "from deltalake import write_deltalake\n",
    "\n",
    "load_dotenv()"
   ]
  },
  {
   "cell_type": "code",
   "execution_count": 2,
   "metadata": {},
   "outputs": [],
   "source": [
    "account_conn_string = os.getenv(\"ACCOUNT_CONN_STRING\")\n",
    "\n",
    "storage_options = {\n",
    "    \"account_name\": os.getenv(\"ACCOUNT_NAME\"),\n",
    "    \"account_key\": os.getenv(\"ACCOUNT_KEY\")\n",
    "}"
   ]
  },
  {
   "cell_type": "code",
   "execution_count": 3,
   "metadata": {},
   "outputs": [
    {
     "data": {
      "text/plain": [
       "<duckdb.duckdb.DuckDBPyConnection at 0x11066fbb0>"
      ]
     },
     "execution_count": 3,
     "metadata": {},
     "output_type": "execute_result"
    }
   ],
   "source": [
    "con = duckdb.connect()\n",
    "con.execute(f\"\"\" \n",
    "    CREATE SECRET secret1 (\n",
    "    TYPE azure,\n",
    "    CONNECTION_STRING '{account_conn_string}'\n",
    ");\n",
    "\"\"\")\n",
    "\n",
    "#con.execute(\"INSTALL delta; INSTALL azure; LOAD azure; LOAD delta;\")"
   ]
  },
  {
   "cell_type": "markdown",
   "metadata": {},
   "source": [
    "### Carga de las canciones\n",
    "\n",
    "Obtenemos tres dataframes:\n",
    "\n",
    "1. Todas las canciones en el top 50 diario para todos los paises\n",
    "2. El total de apariciones de cada canción en el top 50 diario para España.\n",
    "3. Todos los top 1 de caciones en el periodo de tiempo para España."
   ]
  },
  {
   "cell_type": "code",
   "execution_count": 4,
   "metadata": {},
   "outputs": [],
   "source": [
    "path = \"abfs://spotify-songs/*.csv\"\n",
    "\n",
    "start = time.perf_counter()\n",
    "\n",
    "songs_df = (\n",
    "    con.sql(f\"\"\"\n",
    "            SELECT \n",
    "                album_name,\n",
    "                name,\n",
    "                artists,\n",
    "                album_release_date,\n",
    "                daily_rank,\n",
    "                daily_movement,\n",
    "                weekly_movement,\n",
    "                CASE WHEN country = '' THEN 'WO' ELSE country END AS country, \n",
    "                snapshot_date,\n",
    "                popularity,\n",
    "                CAST(duration_ms / 1000 AS INT) AS duration_seconds\n",
    "            FROM read_csv('{path}');\n",
    "    \"\"\")\n",
    ")\n",
    "\n",
    "total_aparences_top_50_es_df = (\n",
    "    con.sql(\"\"\"\n",
    "            SELECT\n",
    "                album_name,\n",
    "                name,\n",
    "                artists,\n",
    "                count(1) as total_aparences\n",
    "            FROM songs_df\n",
    "            WHERE country = 'ES'\n",
    "            GROUP BY 1, 2, 3\n",
    "            ORDER BY total_aparences DESC\n",
    "    \"\"\")\n",
    ")\n",
    "\n",
    "top_first_per_day_es_df = (\n",
    "    con.sql(\"\"\"\n",
    "            SELECT\n",
    "                album_name,\n",
    "                name,\n",
    "                artists,\n",
    "                snapshot_date\n",
    "            FROM songs_df\n",
    "            WHERE country = 'ES' AND daily_rank = 1\n",
    "            ORDER BY snapshot_date\n",
    "    \"\"\")\n",
    ")"
   ]
  },
  {
   "cell_type": "markdown",
   "metadata": {},
   "source": [
    "### Guardamos en el lago de datos"
   ]
  },
  {
   "cell_type": "code",
   "execution_count": 5,
   "metadata": {},
   "outputs": [
    {
     "data": {
      "application/vnd.jupyter.widget-view+json": {
       "model_id": "454da81c3baa4f9a99ef687f0d755d15",
       "version_major": 2,
       "version_minor": 0
      },
      "text/plain": [
       "FloatProgress(value=0.0, layout=Layout(width='auto'), style=ProgressStyle(bar_color='black'))"
      ]
     },
     "metadata": {},
     "output_type": "display_data"
    },
    {
     "data": {
      "application/vnd.jupyter.widget-view+json": {
       "model_id": "35d28ebd12274da5a3f25bef0a8975d1",
       "version_major": 2,
       "version_minor": 0
      },
      "text/plain": [
       "FloatProgress(value=0.0, layout=Layout(width='auto'), style=ProgressStyle(bar_color='black'))"
      ]
     },
     "metadata": {},
     "output_type": "display_data"
    },
    {
     "data": {
      "application/vnd.jupyter.widget-view+json": {
       "model_id": "8538dbdd21c244b0aa6e501e67061f5e",
       "version_major": 2,
       "version_minor": 0
      },
      "text/plain": [
       "FloatProgress(value=0.0, layout=Layout(width='auto'), style=ProgressStyle(bar_color='black'))"
      ]
     },
     "metadata": {},
     "output_type": "display_data"
    }
   ],
   "source": [
    "path_songs = \"abfs://spotify-delta-lake/duckdb/top_fifty_songs_daily\"\n",
    "write_deltalake(path_songs, songs_df.arrow(), mode=\"overwrite\", storage_options=storage_options)\n",
    "\n",
    "path_total_aparences = \"abfs://spotify-delta-lake/duckdb/total_aparences_es\"\n",
    "write_deltalake(path_total_aparences, total_aparences_top_50_es_df.arrow(), mode=\"overwrite\", storage_options=storage_options)\n",
    "\n",
    "path_top_first_per_day = \"abfs://spotify-delta-lake/duckdb/top_first_per_day_es\"\n",
    "write_deltalake(path_top_first_per_day, top_first_per_day_es_df.arrow(), mode=\"overwrite\", storage_options=storage_options)\n",
    "\n"
   ]
  },
  {
   "cell_type": "code",
   "execution_count": 6,
   "metadata": {},
   "outputs": [
    {
     "name": "stdout",
     "output_type": "stream",
     "text": [
      "Tiempo de ejecución: 76.173705 segundos\n"
     ]
    }
   ],
   "source": [
    "end = time.perf_counter()\n",
    "\n",
    "print(f\"Tiempo de ejecución: {end - start:.6f} segundos\")"
   ]
  }
 ],
 "metadata": {
  "kernelspec": {
   "display_name": ".venv",
   "language": "python",
   "name": "python3"
  },
  "language_info": {
   "codemirror_mode": {
    "name": "ipython",
    "version": 3
   },
   "file_extension": ".py",
   "mimetype": "text/x-python",
   "name": "python",
   "nbconvert_exporter": "python",
   "pygments_lexer": "ipython3",
   "version": "3.10.12"
  }
 },
 "nbformat": 4,
 "nbformat_minor": 2
}
